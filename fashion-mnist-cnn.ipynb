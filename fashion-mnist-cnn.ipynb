{
 "cells": [
  {
   "cell_type": "markdown",
   "id": "efbae8ff",
   "metadata": {
    "papermill": {
     "duration": 0.004381,
     "end_time": "2025-04-25T21:01:48.447277",
     "exception": false,
     "start_time": "2025-04-25T21:01:48.442896",
     "status": "completed"
    },
    "tags": []
   },
   "source": [
    "# **CNN From Scratch**"
   ]
  },
  {
   "cell_type": "code",
   "execution_count": 1,
   "id": "c2bfc974",
   "metadata": {
    "_cell_guid": "b1076dfc-b9ad-4769-8c92-a6c4dae69d19",
    "_uuid": "8f2839f25d086af736a60e9eeb907d3b93b6e0e5",
    "execution": {
     "iopub.execute_input": "2025-04-25T21:01:48.456853Z",
     "iopub.status.busy": "2025-04-25T21:01:48.456455Z",
     "iopub.status.idle": "2025-04-25T21:01:51.034127Z",
     "shell.execute_reply": "2025-04-25T21:01:51.033020Z"
    },
    "papermill": {
     "duration": 2.585487,
     "end_time": "2025-04-25T21:01:51.036658",
     "exception": false,
     "start_time": "2025-04-25T21:01:48.451171",
     "status": "completed"
    },
    "tags": []
   },
   "outputs": [],
   "source": [
    "import numpy as np\n",
    "import matplotlib.pyplot as plt\n",
    "import pandas as pd\n",
    "import cv2 "
   ]
  },
  {
   "cell_type": "code",
   "execution_count": 2,
   "id": "94c7db7a",
   "metadata": {
    "execution": {
     "iopub.execute_input": "2025-04-25T21:01:51.048393Z",
     "iopub.status.busy": "2025-04-25T21:01:51.047822Z",
     "iopub.status.idle": "2025-04-25T21:01:57.100922Z",
     "shell.execute_reply": "2025-04-25T21:01:57.099945Z"
    },
    "papermill": {
     "duration": 6.060939,
     "end_time": "2025-04-25T21:01:57.102769",
     "exception": false,
     "start_time": "2025-04-25T21:01:51.041830",
     "status": "completed"
    },
    "tags": []
   },
   "outputs": [
    {
     "data": {
      "text/html": [
       "<div>\n",
       "<style scoped>\n",
       "    .dataframe tbody tr th:only-of-type {\n",
       "        vertical-align: middle;\n",
       "    }\n",
       "\n",
       "    .dataframe tbody tr th {\n",
       "        vertical-align: top;\n",
       "    }\n",
       "\n",
       "    .dataframe thead th {\n",
       "        text-align: right;\n",
       "    }\n",
       "</style>\n",
       "<table border=\"1\" class=\"dataframe\">\n",
       "  <thead>\n",
       "    <tr style=\"text-align: right;\">\n",
       "      <th></th>\n",
       "      <th>label</th>\n",
       "      <th>pixel1</th>\n",
       "      <th>pixel2</th>\n",
       "      <th>pixel3</th>\n",
       "      <th>pixel4</th>\n",
       "      <th>pixel5</th>\n",
       "      <th>pixel6</th>\n",
       "      <th>pixel7</th>\n",
       "      <th>pixel8</th>\n",
       "      <th>pixel9</th>\n",
       "      <th>...</th>\n",
       "      <th>pixel775</th>\n",
       "      <th>pixel776</th>\n",
       "      <th>pixel777</th>\n",
       "      <th>pixel778</th>\n",
       "      <th>pixel779</th>\n",
       "      <th>pixel780</th>\n",
       "      <th>pixel781</th>\n",
       "      <th>pixel782</th>\n",
       "      <th>pixel783</th>\n",
       "      <th>pixel784</th>\n",
       "    </tr>\n",
       "  </thead>\n",
       "  <tbody>\n",
       "    <tr>\n",
       "      <th>0</th>\n",
       "      <td>2</td>\n",
       "      <td>0</td>\n",
       "      <td>0</td>\n",
       "      <td>0</td>\n",
       "      <td>0</td>\n",
       "      <td>0</td>\n",
       "      <td>0</td>\n",
       "      <td>0</td>\n",
       "      <td>0</td>\n",
       "      <td>0</td>\n",
       "      <td>...</td>\n",
       "      <td>0</td>\n",
       "      <td>0</td>\n",
       "      <td>0</td>\n",
       "      <td>0</td>\n",
       "      <td>0</td>\n",
       "      <td>0</td>\n",
       "      <td>0</td>\n",
       "      <td>0</td>\n",
       "      <td>0</td>\n",
       "      <td>0</td>\n",
       "    </tr>\n",
       "    <tr>\n",
       "      <th>1</th>\n",
       "      <td>9</td>\n",
       "      <td>0</td>\n",
       "      <td>0</td>\n",
       "      <td>0</td>\n",
       "      <td>0</td>\n",
       "      <td>0</td>\n",
       "      <td>0</td>\n",
       "      <td>0</td>\n",
       "      <td>0</td>\n",
       "      <td>0</td>\n",
       "      <td>...</td>\n",
       "      <td>0</td>\n",
       "      <td>0</td>\n",
       "      <td>0</td>\n",
       "      <td>0</td>\n",
       "      <td>0</td>\n",
       "      <td>0</td>\n",
       "      <td>0</td>\n",
       "      <td>0</td>\n",
       "      <td>0</td>\n",
       "      <td>0</td>\n",
       "    </tr>\n",
       "    <tr>\n",
       "      <th>2</th>\n",
       "      <td>6</td>\n",
       "      <td>0</td>\n",
       "      <td>0</td>\n",
       "      <td>0</td>\n",
       "      <td>0</td>\n",
       "      <td>0</td>\n",
       "      <td>0</td>\n",
       "      <td>0</td>\n",
       "      <td>5</td>\n",
       "      <td>0</td>\n",
       "      <td>...</td>\n",
       "      <td>0</td>\n",
       "      <td>0</td>\n",
       "      <td>0</td>\n",
       "      <td>30</td>\n",
       "      <td>43</td>\n",
       "      <td>0</td>\n",
       "      <td>0</td>\n",
       "      <td>0</td>\n",
       "      <td>0</td>\n",
       "      <td>0</td>\n",
       "    </tr>\n",
       "    <tr>\n",
       "      <th>3</th>\n",
       "      <td>0</td>\n",
       "      <td>0</td>\n",
       "      <td>0</td>\n",
       "      <td>0</td>\n",
       "      <td>1</td>\n",
       "      <td>2</td>\n",
       "      <td>0</td>\n",
       "      <td>0</td>\n",
       "      <td>0</td>\n",
       "      <td>0</td>\n",
       "      <td>...</td>\n",
       "      <td>3</td>\n",
       "      <td>0</td>\n",
       "      <td>0</td>\n",
       "      <td>0</td>\n",
       "      <td>0</td>\n",
       "      <td>1</td>\n",
       "      <td>0</td>\n",
       "      <td>0</td>\n",
       "      <td>0</td>\n",
       "      <td>0</td>\n",
       "    </tr>\n",
       "    <tr>\n",
       "      <th>4</th>\n",
       "      <td>3</td>\n",
       "      <td>0</td>\n",
       "      <td>0</td>\n",
       "      <td>0</td>\n",
       "      <td>0</td>\n",
       "      <td>0</td>\n",
       "      <td>0</td>\n",
       "      <td>0</td>\n",
       "      <td>0</td>\n",
       "      <td>0</td>\n",
       "      <td>...</td>\n",
       "      <td>0</td>\n",
       "      <td>0</td>\n",
       "      <td>0</td>\n",
       "      <td>0</td>\n",
       "      <td>0</td>\n",
       "      <td>0</td>\n",
       "      <td>0</td>\n",
       "      <td>0</td>\n",
       "      <td>0</td>\n",
       "      <td>0</td>\n",
       "    </tr>\n",
       "    <tr>\n",
       "      <th>...</th>\n",
       "      <td>...</td>\n",
       "      <td>...</td>\n",
       "      <td>...</td>\n",
       "      <td>...</td>\n",
       "      <td>...</td>\n",
       "      <td>...</td>\n",
       "      <td>...</td>\n",
       "      <td>...</td>\n",
       "      <td>...</td>\n",
       "      <td>...</td>\n",
       "      <td>...</td>\n",
       "      <td>...</td>\n",
       "      <td>...</td>\n",
       "      <td>...</td>\n",
       "      <td>...</td>\n",
       "      <td>...</td>\n",
       "      <td>...</td>\n",
       "      <td>...</td>\n",
       "      <td>...</td>\n",
       "      <td>...</td>\n",
       "      <td>...</td>\n",
       "    </tr>\n",
       "    <tr>\n",
       "      <th>59995</th>\n",
       "      <td>9</td>\n",
       "      <td>0</td>\n",
       "      <td>0</td>\n",
       "      <td>0</td>\n",
       "      <td>0</td>\n",
       "      <td>0</td>\n",
       "      <td>0</td>\n",
       "      <td>0</td>\n",
       "      <td>0</td>\n",
       "      <td>0</td>\n",
       "      <td>...</td>\n",
       "      <td>0</td>\n",
       "      <td>0</td>\n",
       "      <td>0</td>\n",
       "      <td>0</td>\n",
       "      <td>0</td>\n",
       "      <td>0</td>\n",
       "      <td>0</td>\n",
       "      <td>0</td>\n",
       "      <td>0</td>\n",
       "      <td>0</td>\n",
       "    </tr>\n",
       "    <tr>\n",
       "      <th>59996</th>\n",
       "      <td>1</td>\n",
       "      <td>0</td>\n",
       "      <td>0</td>\n",
       "      <td>0</td>\n",
       "      <td>0</td>\n",
       "      <td>0</td>\n",
       "      <td>0</td>\n",
       "      <td>0</td>\n",
       "      <td>0</td>\n",
       "      <td>0</td>\n",
       "      <td>...</td>\n",
       "      <td>73</td>\n",
       "      <td>0</td>\n",
       "      <td>0</td>\n",
       "      <td>0</td>\n",
       "      <td>0</td>\n",
       "      <td>0</td>\n",
       "      <td>0</td>\n",
       "      <td>0</td>\n",
       "      <td>0</td>\n",
       "      <td>0</td>\n",
       "    </tr>\n",
       "    <tr>\n",
       "      <th>59997</th>\n",
       "      <td>8</td>\n",
       "      <td>0</td>\n",
       "      <td>0</td>\n",
       "      <td>0</td>\n",
       "      <td>0</td>\n",
       "      <td>0</td>\n",
       "      <td>0</td>\n",
       "      <td>0</td>\n",
       "      <td>0</td>\n",
       "      <td>0</td>\n",
       "      <td>...</td>\n",
       "      <td>160</td>\n",
       "      <td>162</td>\n",
       "      <td>163</td>\n",
       "      <td>135</td>\n",
       "      <td>94</td>\n",
       "      <td>0</td>\n",
       "      <td>0</td>\n",
       "      <td>0</td>\n",
       "      <td>0</td>\n",
       "      <td>0</td>\n",
       "    </tr>\n",
       "    <tr>\n",
       "      <th>59998</th>\n",
       "      <td>8</td>\n",
       "      <td>0</td>\n",
       "      <td>0</td>\n",
       "      <td>0</td>\n",
       "      <td>0</td>\n",
       "      <td>0</td>\n",
       "      <td>0</td>\n",
       "      <td>0</td>\n",
       "      <td>0</td>\n",
       "      <td>0</td>\n",
       "      <td>...</td>\n",
       "      <td>0</td>\n",
       "      <td>0</td>\n",
       "      <td>0</td>\n",
       "      <td>0</td>\n",
       "      <td>0</td>\n",
       "      <td>0</td>\n",
       "      <td>0</td>\n",
       "      <td>0</td>\n",
       "      <td>0</td>\n",
       "      <td>0</td>\n",
       "    </tr>\n",
       "    <tr>\n",
       "      <th>59999</th>\n",
       "      <td>7</td>\n",
       "      <td>0</td>\n",
       "      <td>0</td>\n",
       "      <td>0</td>\n",
       "      <td>0</td>\n",
       "      <td>0</td>\n",
       "      <td>0</td>\n",
       "      <td>0</td>\n",
       "      <td>0</td>\n",
       "      <td>0</td>\n",
       "      <td>...</td>\n",
       "      <td>0</td>\n",
       "      <td>0</td>\n",
       "      <td>0</td>\n",
       "      <td>0</td>\n",
       "      <td>0</td>\n",
       "      <td>0</td>\n",
       "      <td>0</td>\n",
       "      <td>0</td>\n",
       "      <td>0</td>\n",
       "      <td>0</td>\n",
       "    </tr>\n",
       "  </tbody>\n",
       "</table>\n",
       "<p>60000 rows × 785 columns</p>\n",
       "</div>"
      ],
      "text/plain": [
       "       label  pixel1  pixel2  pixel3  pixel4  pixel5  pixel6  pixel7  pixel8  \\\n",
       "0          2       0       0       0       0       0       0       0       0   \n",
       "1          9       0       0       0       0       0       0       0       0   \n",
       "2          6       0       0       0       0       0       0       0       5   \n",
       "3          0       0       0       0       1       2       0       0       0   \n",
       "4          3       0       0       0       0       0       0       0       0   \n",
       "...      ...     ...     ...     ...     ...     ...     ...     ...     ...   \n",
       "59995      9       0       0       0       0       0       0       0       0   \n",
       "59996      1       0       0       0       0       0       0       0       0   \n",
       "59997      8       0       0       0       0       0       0       0       0   \n",
       "59998      8       0       0       0       0       0       0       0       0   \n",
       "59999      7       0       0       0       0       0       0       0       0   \n",
       "\n",
       "       pixel9  ...  pixel775  pixel776  pixel777  pixel778  pixel779  \\\n",
       "0           0  ...         0         0         0         0         0   \n",
       "1           0  ...         0         0         0         0         0   \n",
       "2           0  ...         0         0         0        30        43   \n",
       "3           0  ...         3         0         0         0         0   \n",
       "4           0  ...         0         0         0         0         0   \n",
       "...       ...  ...       ...       ...       ...       ...       ...   \n",
       "59995       0  ...         0         0         0         0         0   \n",
       "59996       0  ...        73         0         0         0         0   \n",
       "59997       0  ...       160       162       163       135        94   \n",
       "59998       0  ...         0         0         0         0         0   \n",
       "59999       0  ...         0         0         0         0         0   \n",
       "\n",
       "       pixel780  pixel781  pixel782  pixel783  pixel784  \n",
       "0             0         0         0         0         0  \n",
       "1             0         0         0         0         0  \n",
       "2             0         0         0         0         0  \n",
       "3             1         0         0         0         0  \n",
       "4             0         0         0         0         0  \n",
       "...         ...       ...       ...       ...       ...  \n",
       "59995         0         0         0         0         0  \n",
       "59996         0         0         0         0         0  \n",
       "59997         0         0         0         0         0  \n",
       "59998         0         0         0         0         0  \n",
       "59999         0         0         0         0         0  \n",
       "\n",
       "[60000 rows x 785 columns]"
      ]
     },
     "execution_count": 2,
     "metadata": {},
     "output_type": "execute_result"
    }
   ],
   "source": [
    "data = pd.read_csv('/kaggle/input/fashionmnist/fashion-mnist_train.csv')\n",
    "data"
   ]
  },
  {
   "cell_type": "code",
   "execution_count": 3,
   "id": "a4276404",
   "metadata": {
    "execution": {
     "iopub.execute_input": "2025-04-25T21:01:57.113266Z",
     "iopub.status.busy": "2025-04-25T21:01:57.112920Z",
     "iopub.status.idle": "2025-04-25T21:01:58.148108Z",
     "shell.execute_reply": "2025-04-25T21:01:58.147133Z"
    },
    "papermill": {
     "duration": 1.042306,
     "end_time": "2025-04-25T21:01:58.149729",
     "exception": false,
     "start_time": "2025-04-25T21:01:57.107423",
     "status": "completed"
    },
    "tags": []
   },
   "outputs": [
    {
     "name": "stdout",
     "output_type": "stream",
     "text": [
      "m = 60000, n = 785\n"
     ]
    }
   ],
   "source": [
    "data = np.array(data)\n",
    "m, n = np.shape(data)\n",
    "np.random.shuffle(data)\n",
    "print(f\"m = {m}, n = {n}\")"
   ]
  },
  {
   "cell_type": "code",
   "execution_count": 4,
   "id": "f7855228",
   "metadata": {
    "execution": {
     "iopub.execute_input": "2025-04-25T21:01:58.159674Z",
     "iopub.status.busy": "2025-04-25T21:01:58.159316Z",
     "iopub.status.idle": "2025-04-25T21:01:58.164733Z",
     "shell.execute_reply": "2025-04-25T21:01:58.163950Z"
    },
    "papermill": {
     "duration": 0.012076,
     "end_time": "2025-04-25T21:01:58.166199",
     "exception": false,
     "start_time": "2025-04-25T21:01:58.154123",
     "status": "completed"
    },
    "tags": []
   },
   "outputs": [
    {
     "data": {
      "text/plain": [
       "12000.0"
      ]
     },
     "execution_count": 4,
     "metadata": {},
     "output_type": "execute_result"
    }
   ],
   "source": [
    "index = m * 0.20\n",
    "index"
   ]
  },
  {
   "cell_type": "code",
   "execution_count": 5,
   "id": "c70e1c06",
   "metadata": {
    "execution": {
     "iopub.execute_input": "2025-04-25T21:01:58.176425Z",
     "iopub.status.busy": "2025-04-25T21:01:58.176126Z",
     "iopub.status.idle": "2025-04-25T21:01:58.380843Z",
     "shell.execute_reply": "2025-04-25T21:01:58.379897Z"
    },
    "papermill": {
     "duration": 0.212035,
     "end_time": "2025-04-25T21:01:58.382854",
     "exception": false,
     "start_time": "2025-04-25T21:01:58.170819",
     "status": "completed"
    },
    "tags": []
   },
   "outputs": [],
   "source": [
    "data_train = data[12000:m].T\n",
    "Y_train = data_train[0]\n",
    "X_train = data_train[1:n]\n",
    "X_train = X_train / 255.\n",
    "_, m_train = X_train.shape"
   ]
  },
  {
   "cell_type": "code",
   "execution_count": 6,
   "id": "0e714235",
   "metadata": {
    "execution": {
     "iopub.execute_input": "2025-04-25T21:01:58.393452Z",
     "iopub.status.busy": "2025-04-25T21:01:58.392579Z",
     "iopub.status.idle": "2025-04-25T21:01:58.430223Z",
     "shell.execute_reply": "2025-04-25T21:01:58.429278Z"
    },
    "papermill": {
     "duration": 0.04471,
     "end_time": "2025-04-25T21:01:58.432058",
     "exception": false,
     "start_time": "2025-04-25T21:01:58.387348",
     "status": "completed"
    },
    "tags": []
   },
   "outputs": [],
   "source": [
    "data_test = data[0:12000].T\n",
    "Y_test = data_test[0]\n",
    "X_test = data_test[1:n]\n",
    "X_test = X_test / 255."
   ]
  },
  {
   "cell_type": "code",
   "execution_count": 7,
   "id": "6b7fcf4b",
   "metadata": {
    "execution": {
     "iopub.execute_input": "2025-04-25T21:01:58.442478Z",
     "iopub.status.busy": "2025-04-25T21:01:58.442136Z",
     "iopub.status.idle": "2025-04-25T21:01:58.447360Z",
     "shell.execute_reply": "2025-04-25T21:01:58.446452Z"
    },
    "papermill": {
     "duration": 0.012219,
     "end_time": "2025-04-25T21:01:58.449018",
     "exception": false,
     "start_time": "2025-04-25T21:01:58.436799",
     "status": "completed"
    },
    "tags": []
   },
   "outputs": [],
   "source": [
    "def one_hot_encode(labels, num_classes=10):\n",
    "    num_labels = len(labels)\n",
    "    one_hot = np.zeros((num_labels, num_classes))\n",
    "    one_hot[np.arange(num_labels), labels.astype(int)] = 1\n",
    "    return one_hot"
   ]
  },
  {
   "cell_type": "code",
   "execution_count": 8,
   "id": "90756085",
   "metadata": {
    "execution": {
     "iopub.execute_input": "2025-04-25T21:01:58.459420Z",
     "iopub.status.busy": "2025-04-25T21:01:58.459092Z",
     "iopub.status.idle": "2025-04-25T21:01:58.707217Z",
     "shell.execute_reply": "2025-04-25T21:01:58.706232Z"
    },
    "papermill": {
     "duration": 0.255508,
     "end_time": "2025-04-25T21:01:58.708976",
     "exception": false,
     "start_time": "2025-04-25T21:01:58.453468",
     "status": "completed"
    },
    "tags": []
   },
   "outputs": [
    {
     "name": "stdout",
     "output_type": "stream",
     "text": [
      "X_train shape: (48000, 28, 28, 1)\n",
      "Y_train shape: (48000, 10)\n",
      "X_test shape: (12000, 28, 28, 1)\n",
      "Y_test shape: (12000, 10)\n",
      "\n",
      "Original label: 2\n",
      "One-hot encoded [0. 0. 1. 0. 0. 0. 0. 0. 0. 0.]\n",
      "Sample image shape: (28, 28, 1)\n"
     ]
    },
    {
     "data": {
      "image/png": "[encoded data removed]",
      "text/plain": [
       "<Figure size 640x480 with 1 Axes>"
      ]
     },
     "metadata": {},
     "output_type": "display_data"
    }
   ],
   "source": [
    "X_train = X_train.T.reshape(-1, 28, 28, 1)\n",
    "X_test = X_test.T.reshape(-1, 28, 28, 1)\n",
    "Y_train = one_hot_encode(Y_train)\n",
    "Y_test = one_hot_encode(Y_test)\n",
    "\n",
    "print(\"X_train shape:\", X_train.shape) #(48000, 28, 28, 1)\n",
    "print(\"Y_train shape:\", Y_train.shape) #(48000, 10)\n",
    "print(\"X_test shape:\", X_test.shape) #(12000, 28, 28, 1)\n",
    "print(\"Y_test shape:\", Y_test.shape) #(12000, 1)\n",
    "\n",
    "print(\"\\nOriginal label:\", np.argmax(Y_train[0]))\n",
    "print(\"One-hot encoded\", Y_train[0])\n",
    "\n",
    "print(\"Sample image shape:\", X_train[0].shape)\n",
    "plt.imshow(X_train[0].squeeze(), cmap='gray')\n",
    "plt.show()"
   ]
  },
  {
   "cell_type": "code",
   "execution_count": 9,
   "id": "e9fd691d",
   "metadata": {
    "execution": {
     "iopub.execute_input": "2025-04-25T21:01:58.720317Z",
     "iopub.status.busy": "2025-04-25T21:01:58.719699Z",
     "iopub.status.idle": "2025-04-25T21:01:58.734154Z",
     "shell.execute_reply": "2025-04-25T21:01:58.733150Z"
    },
    "papermill": {
     "duration": 0.022187,
     "end_time": "2025-04-25T21:01:58.735968",
     "exception": false,
     "start_time": "2025-04-25T21:01:58.713781",
     "status": "completed"
    },
    "tags": []
   },
   "outputs": [],
   "source": [
    "def connection(input_data, weights, biases):\n",
    "    return np.dot(input_data, weights) + biases\n",
    "\n",
    "def connection_back(gradient_output, input_data, weights):\n",
    "    gradient_weights = np.dot(input_data.T, gradient_output)\n",
    "    gradient_biases = np.sum(gradient_output, axis=0, keepdims = True)\n",
    "    gradient_input = np.dot(gradient_output, weights.T)\n",
    "\n",
    "    return gradient_weights, gradient_biases, gradient_input\n",
    "    \n",
    "def conv(image, kernel):\n",
    "    kernel_h, kernel_w = kernel.shape\n",
    "    img_h, img_w = image.shape\n",
    "    output_h = img_h - kernel_h + 1\n",
    "    output_w = img_w - kernel_w + 1\n",
    "\n",
    "    output = np.zeros((output_h, output_w))\n",
    "    for i in range(output_h):\n",
    "        for j in range(output_w):\n",
    "            output[i, j] = np.sum(image[i:i+kernel_h, j:j+kernel_w] * kernel)\n",
    "    return output\n",
    "\n",
    "def conv_back(gradient_output, input_data, kernel):\n",
    "    kernel_h, kernel_w = kernel.shape\n",
    "    gradient_kernel = np.zeros_like(kernel)\n",
    "    gradient_input = np.zeros_like(input_data)\n",
    "\n",
    "    for i in range(gradient_output.shape[0]):\n",
    "        for j in range(gradient_output.shape[1]):\n",
    "            gradient_kernel += input_data[i:i+kernel_h, j:j+kernel_w] * gradient_output[i, j]\n",
    "            gradient_input[i:i+kernel_h, j:j+kernel_w] += kernel * gradient_output[i, j]\n",
    "            \n",
    "    return gradient_kernel, gradient_input \n",
    "\n",
    "def relu(Z):\n",
    "    return np.maximum(0, Z)\n",
    "\n",
    "def relu_back(gradient_output, input_data):\n",
    "    gradient_input = gradient_output.copy()\n",
    "    gradient_input[input_data <= 0] = 0\n",
    "    return gradient_input\n",
    "    \n",
    "def max_pooling(image, pool_size=(2,2)):\n",
    "    pool_h, pool_w = pool_size\n",
    "    img_h, img_w = image.shape\n",
    "    output_h = img_h // pool_h\n",
    "    output_w = img_w // pool_w\n",
    "\n",
    "    output = np.zeros((output_h, output_w))\n",
    "\n",
    "    for i in range(output_h):\n",
    "        for j in range(output_w):\n",
    "            output[i, j] = np.max(image[i * pool_h: (i+1)*pool_h, j * pool_w: (j+1)*pool_w])\n",
    "    return output\n",
    "\n",
    "def max_pooling_back(gradient_output, input_data, pool_size=(2,2)):\n",
    "    pool_h, pool_w = pool_size\n",
    "    img_h, img_w = input_data.shape\n",
    "    output_h = img_h // pool_h\n",
    "    output_w = img_w // pool_w\n",
    "\n",
    "    gradient_input = np.zeros_like(input_data)\n",
    "\n",
    "    for i in range(output_h):\n",
    "        for j in range(output_w):\n",
    "            pool_region = input_data[i * pool_h:(i+1)*pool_h, j*pool_w:(j+1)*pool_w]\n",
    "            max_index = np.unravel_index(np.argmax(pool_region), pool_region.shape)\n",
    "            gradient_input[i*pool_h + max_index[0], j*pool_w + max_index[1]] = gradient_output[i, j]\n",
    "    return gradient_input\n",
    "\n",
    "def softmax(x):\n",
    "    exp_x = np.exp(x - np.max(x))\n",
    "    return exp_x / np.sum(exp_x, axis=1, keepdims=True)\n",
    "\n",
    "def softmax_cross_entropy(pred, target):\n",
    "    return pred - target"
   ]
  },
  {
   "cell_type": "code",
   "execution_count": 10,
   "id": "313ab48d",
   "metadata": {
    "execution": {
     "iopub.execute_input": "2025-04-25T21:01:58.746750Z",
     "iopub.status.busy": "2025-04-25T21:01:58.746298Z",
     "iopub.status.idle": "2025-04-25T21:01:58.756034Z",
     "shell.execute_reply": "2025-04-25T21:01:58.755072Z"
    },
    "papermill": {
     "duration": 0.016984,
     "end_time": "2025-04-25T21:01:58.757609",
     "exception": false,
     "start_time": "2025-04-25T21:01:58.740625",
     "status": "completed"
    },
    "tags": []
   },
   "outputs": [],
   "source": [
    "class CNN:\n",
    "    def __init__(self):\n",
    "        self.conv_kernel = np.random.uniform(-0.1, 0.1, (3,3))\n",
    "        self.fc_weights = np.random.uniform(-0.1, 0.1, (13 * 13 * 1, 10))\n",
    "        self.fc_biases = np.zeros((1, 10))\n",
    "        self.cache = {}\n",
    "\n",
    "    def forward(self, input_img):\n",
    "        conv_output = conv(input_img.squeeze(), self.conv_kernel)\n",
    "        self.cache['conv_output'] = conv_output\n",
    "        \n",
    "        relu_output = relu(conv_output)\n",
    "        self.cache['relu_output'] = relu_output\n",
    "\n",
    "        pooled_output = max_pooling(relu_output)\n",
    "        self.cache['pooled_output'] = pooled_output\n",
    "\n",
    "        flattened = pooled_output.flatten()\n",
    "        self.cache['flattened'] = flattened\n",
    "\n",
    "        fc_output = connection(flattened, self.fc_weights, self.fc_biases)\n",
    "        self.cache['fc_output'] = fc_output\n",
    "\n",
    "        output_probs = softmax(fc_output.reshape(1, -1))\n",
    "        self.cache['output_probs'] = output_probs\n",
    "\n",
    "        return output_probs\n",
    "\n",
    "    def backward(self, input_img, target):\n",
    "        conv_output = self.cache['conv_output']\n",
    "        relu_output = self.cache['relu_output']\n",
    "        pooled_output = self.cache['pooled_output']\n",
    "        flattened = self.cache['flattened']\n",
    "        fc_output = self.cache['fc_output']\n",
    "        output_probs = self.cache['output_probs']\n",
    "\n",
    "        grad_softmax = softmax_cross_entropy(output_probs, target)\n",
    "\n",
    "        grad_fc_weights, grad_fc_biases, grad_flattened = connection_back(\n",
    "            grad_softmax, flattened.reshape(1, -1), self.fc_weights\n",
    "        )\n",
    "\n",
    "        grad_pooled = grad_flattened.reshape(pooled_output.shape)\n",
    "\n",
    "        grad_relu = max_pooling_back(grad_pooled, relu_output)\n",
    "\n",
    "        grad_conv = relu_back(grad_relu, conv_output)\n",
    "\n",
    "        grad_kernel, grad_input = conv_back(grad_conv, input_img.squeeze(), self.conv_kernel)\n",
    "\n",
    "        return grad_kernel, grad_fc_weights, grad_fc_biases"
   ]
  },
  {
   "cell_type": "code",
   "execution_count": 11,
   "id": "d5831a52",
   "metadata": {
    "execution": {
     "iopub.execute_input": "2025-04-25T21:01:58.768555Z",
     "iopub.status.busy": "2025-04-25T21:01:58.767835Z",
     "iopub.status.idle": "2025-04-25T21:01:58.773165Z",
     "shell.execute_reply": "2025-04-25T21:01:58.772089Z"
    },
    "papermill": {
     "duration": 0.012437,
     "end_time": "2025-04-25T21:01:58.774788",
     "exception": false,
     "start_time": "2025-04-25T21:01:58.762351",
     "status": "completed"
    },
    "tags": []
   },
   "outputs": [],
   "source": [
    "def cross_entropy_loss(predictions, label):\n",
    "    m = label.shape[1]\n",
    "    loss = -np.sum(label*np.log(predictions + 1e-8)) / m\n",
    "    return loss"
   ]
  },
  {
   "cell_type": "code",
   "execution_count": 12,
   "id": "329d2043",
   "metadata": {
    "execution": {
     "iopub.execute_input": "2025-04-25T21:01:58.785834Z",
     "iopub.status.busy": "2025-04-25T21:01:58.785530Z",
     "iopub.status.idle": "2025-04-25T21:01:58.791785Z",
     "shell.execute_reply": "2025-04-25T21:01:58.790832Z"
    },
    "papermill": {
     "duration": 0.013489,
     "end_time": "2025-04-25T21:01:58.793279",
     "exception": false,
     "start_time": "2025-04-25T21:01:58.779790",
     "status": "completed"
    },
    "tags": []
   },
   "outputs": [],
   "source": [
    "def train_CNN(CNN, X_train, Y_train, epochs=10, learning_rate=0.01):\n",
    "    for epoch in range(epochs):\n",
    "        total_loss = 0\n",
    "        for i in range(len(X_train)):\n",
    "            input_img = X_train[i]\n",
    "            target = Y_train[i]\n",
    "\n",
    "            predictions = CNN.forward(input_img)\n",
    "\n",
    "            loss = cross_entropy_loss(predictions, target.reshape(1, -1))\n",
    "            total_loss += loss\n",
    "\n",
    "            grad_kernel, grad_fc_weights, grad_fc_biases = CNN.backward(input_img, target)\n",
    "\n",
    "            CNN.conv_kernel -= learning_rate * grad_kernel\n",
    "            CNN.fc_weights -= learning_rate * grad_fc_weights\n",
    "            CNN.fc_biases -= learning_rate * grad_fc_biases\n",
    "            \n",
    "\n",
    "    print(f\"Epoch {epoch+1}, Loss: {total_loss / len(X_train)}\")"
   ]
  },
  {
   "cell_type": "code",
   "execution_count": 13,
   "id": "fdd90cd1",
   "metadata": {
    "execution": {
     "iopub.execute_input": "2025-04-25T21:01:58.803883Z",
     "iopub.status.busy": "2025-04-25T21:01:58.803505Z",
     "iopub.status.idle": "2025-04-25T21:01:58.809385Z",
     "shell.execute_reply": "2025-04-25T21:01:58.808468Z"
    },
    "papermill": {
     "duration": 0.013085,
     "end_time": "2025-04-25T21:01:58.811134",
     "exception": false,
     "start_time": "2025-04-25T21:01:58.798049",
     "status": "completed"
    },
    "tags": []
   },
   "outputs": [],
   "source": [
    "def evaluate_CNN(CNN, X_test, Y_test):\n",
    "    correct = 0\n",
    "    for i in range(len(X_test)):\n",
    "        input_img = X_test[i]\n",
    "        target = Y_test[i]\n",
    "\n",
    "        predictions = CNN.forward(input_img)\n",
    "        predicted_class = np.argmax(predictions)\n",
    "        true_class = np.argmax(target)\n",
    "\n",
    "        if predicted_class == true_class:\n",
    "            correct += 1\n",
    "    accuracy = correct / len(X_test)\n",
    "    print(f\"Test Accuracy: {accuracy * 100:.3f}%\")\n",
    "    "
   ]
  },
  {
   "cell_type": "code",
   "execution_count": 14,
   "id": "0f2b96e4",
   "metadata": {
    "execution": {
     "iopub.execute_input": "2025-04-25T21:01:58.822578Z",
     "iopub.status.busy": "2025-04-25T21:01:58.822178Z",
     "iopub.status.idle": "2025-04-25T21:51:49.184774Z",
     "shell.execute_reply": "2025-04-25T21:51:49.183694Z"
    },
    "papermill": {
     "duration": 2990.374948,
     "end_time": "2025-04-25T21:51:49.191005",
     "exception": false,
     "start_time": "2025-04-25T21:01:58.816057",
     "status": "completed"
    },
    "tags": []
   },
   "outputs": [
    {
     "name": "stdout",
     "output_type": "stream",
     "text": [
      "Epoch 5, Loss: 0.04733908313979075\n",
      "Test Accuracy: 81.208%\n"
     ]
    }
   ],
   "source": [
    "CNN = CNN()\n",
    "train_CNN(CNN, X_train, Y_train, epochs=5, learning_rate=0.01)\n",
    "evaluate_CNN(CNN, X_test, Y_test)"
   ]
  },
  {
   "cell_type": "markdown",
   "id": "a37f7e7c",
   "metadata": {
    "papermill": {
     "duration": 0.004846,
     "end_time": "2025-04-25T21:51:49.200695",
     "exception": false,
     "start_time": "2025-04-25T21:51:49.195849",
     "status": "completed"
    },
    "tags": []
   },
   "source": [
    "# **CNN Using Torch**"
   ]
  },
  {
   "cell_type": "code",
   "execution_count": 15,
   "id": "93d3f1f3",
   "metadata": {
    "execution": {
     "iopub.execute_input": "2025-04-25T21:51:49.211951Z",
     "iopub.status.busy": "2025-04-25T21:51:49.211627Z",
     "iopub.status.idle": "2025-04-25T21:52:01.322747Z",
     "shell.execute_reply": "2025-04-25T21:52:01.321273Z"
    },
    "papermill": {
     "duration": 12.119065,
     "end_time": "2025-04-25T21:52:01.324400",
     "exception": false,
     "start_time": "2025-04-25T21:51:49.205335",
     "status": "completed"
    },
    "tags": []
   },
   "outputs": [],
   "source": [
    "import torch\n",
    "import torch.nn as nn\n",
    "import torch.optim as optim\n",
    "import torch.nn.functional as F\n",
    "from torchvision import datasets, transforms\n",
    "from torch.utils.data import DataLoader"
   ]
  },
  {
   "cell_type": "code",
   "execution_count": 16,
   "id": "e6efa124",
   "metadata": {
    "execution": {
     "iopub.execute_input": "2025-04-25T21:52:01.336354Z",
     "iopub.status.busy": "2025-04-25T21:52:01.335435Z",
     "iopub.status.idle": "2025-04-25T21:52:06.358442Z",
     "shell.execute_reply": "2025-04-25T21:52:06.357006Z"
    },
    "papermill": {
     "duration": 5.031014,
     "end_time": "2025-04-25T21:52:06.360484",
     "exception": false,
     "start_time": "2025-04-25T21:52:01.329470",
     "status": "completed"
    },
    "tags": []
   },
   "outputs": [
    {
     "name": "stdout",
     "output_type": "stream",
     "text": [
      "Downloading http://fashion-mnist.s3-website.eu-central-1.amazonaws.com/train-images-idx3-ubyte.gz\n",
      "Downloading http://fashion-mnist.s3-website.eu-central-1.amazonaws.com/train-images-idx3-ubyte.gz to ./data/FashionMNIST/raw/train-images-idx3-ubyte.gz\n"
     ]
    },
    {
     "name": "stderr",
     "output_type": "stream",
     "text": [
      "100%|██████████| 26.4M/26.4M [00:01<00:00, 18.8MB/s]\n"
     ]
    },
    {
     "name": "stdout",
     "output_type": "stream",
     "text": [
      "Extracting ./data/FashionMNIST/raw/train-images-idx3-ubyte.gz to ./data/FashionMNIST/raw\n",
      "\n",
      "Downloading http://fashion-mnist.s3-website.eu-central-1.amazonaws.com/train-labels-idx1-ubyte.gz\n",
      "Downloading http://fashion-mnist.s3-website.eu-central-1.amazonaws.com/train-labels-idx1-ubyte.gz to ./data/FashionMNIST/raw/train-labels-idx1-ubyte.gz\n"
     ]
    },
    {
     "name": "stderr",
     "output_type": "stream",
     "text": [
      "100%|██████████| 29.5k/29.5k [00:00<00:00, 302kB/s]\n"
     ]
    },
    {
     "name": "stdout",
     "output_type": "stream",
     "text": [
      "Extracting ./data/FashionMNIST/raw/train-labels-idx1-ubyte.gz to ./data/FashionMNIST/raw\n",
      "\n",
      "Downloading http://fashion-mnist.s3-website.eu-central-1.amazonaws.com/t10k-images-idx3-ubyte.gz\n",
      "Downloading http://fashion-mnist.s3-website.eu-central-1.amazonaws.com/t10k-images-idx3-ubyte.gz to ./data/FashionMNIST/raw/t10k-images-idx3-ubyte.gz\n"
     ]
    },
    {
     "name": "stderr",
     "output_type": "stream",
     "text": [
      "100%|██████████| 4.42M/4.42M [00:00<00:00, 5.69MB/s]\n"
     ]
    },
    {
     "name": "stdout",
     "output_type": "stream",
     "text": [
      "Extracting ./data/FashionMNIST/raw/t10k-images-idx3-ubyte.gz to ./data/FashionMNIST/raw\n",
      "\n",
      "Downloading http://fashion-mnist.s3-website.eu-central-1.amazonaws.com/t10k-labels-idx1-ubyte.gz\n",
      "Downloading http://fashion-mnist.s3-website.eu-central-1.amazonaws.com/t10k-labels-idx1-ubyte.gz to ./data/FashionMNIST/raw/t10k-labels-idx1-ubyte.gz\n"
     ]
    },
    {
     "name": "stderr",
     "output_type": "stream",
     "text": [
      "100%|██████████| 5.15k/5.15k [00:00<00:00, 10.7MB/s]"
     ]
    },
    {
     "name": "stdout",
     "output_type": "stream",
     "text": [
      "Extracting ./data/FashionMNIST/raw/t10k-labels-idx1-ubyte.gz to ./data/FashionMNIST/raw\n",
      "\n"
     ]
    },
    {
     "name": "stderr",
     "output_type": "stream",
     "text": [
      "\n"
     ]
    }
   ],
   "source": [
    "transform = transforms.Compose([transforms.ToTensor(), transforms.Normalize((0.5), (0.5))])\n",
    "train_dataset = datasets.FashionMNIST(root='./data',train=True, download=True, transform=transform)\n",
    "train_loader = torch.utils.data.DataLoader(train_dataset, batch_size=64, shuffle=True)"
   ]
  },
  {
   "cell_type": "code",
   "execution_count": 17,
   "id": "d159eac1",
   "metadata": {
    "execution": {
     "iopub.execute_input": "2025-04-25T21:52:06.376980Z",
     "iopub.status.busy": "2025-04-25T21:52:06.376634Z",
     "iopub.status.idle": "2025-04-25T21:53:43.358051Z",
     "shell.execute_reply": "2025-04-25T21:53:43.357008Z"
    },
    "papermill": {
     "duration": 96.99115,
     "end_time": "2025-04-25T21:53:43.359623",
     "exception": false,
     "start_time": "2025-04-25T21:52:06.368473",
     "status": "completed"
    },
    "tags": []
   },
   "outputs": [
    {
     "name": "stdout",
     "output_type": "stream",
     "text": [
      "Epoch [1/5], Loss: 1.8764\n",
      "Epoch [2/5], Loss: 1.7146\n",
      "Epoch [3/5], Loss: 1.6922\n",
      "Epoch [4/5], Loss: 1.6815\n",
      "Epoch [5/5], Loss: 1.6742\n",
      "Training complete.\n"
     ]
    }
   ],
   "source": [
    "class TorchCNN(nn.Module):\n",
    "    def __init__(self):\n",
    "        super(TorchCNN, self).__init__()\n",
    "        self.conv1 = nn.Conv2d(1, 16, kernel_size=3, stride=1, padding=1)\n",
    "        self.pool = nn.MaxPool2d(kernel_size=2, stride=2)\n",
    "        self.fc1 = nn.Linear(16 * 14 * 14, 10)\n",
    "\n",
    "    def forward(self, x):\n",
    "        x = self.pool(F.relu(self.conv1(x)))\n",
    "        x = x.view(-1, 16 * 14 * 14)\n",
    "        x = self.fc1(x)\n",
    "\n",
    "        return F.softmax(x, dim=1)\n",
    "\n",
    "model = TorchCNN()\n",
    "\n",
    "criterion = nn.CrossEntropyLoss()\n",
    "\n",
    "learning_rate = 0.01\n",
    "num_epochs = 5\n",
    "\n",
    "for epoch in range(num_epochs):\n",
    "    running_loss = 0.0\n",
    "    for images, labels in train_loader:\n",
    "        for param in model.parameters():\n",
    "            if param.grad is not None:\n",
    "                param.grad.zero_()\n",
    "\n",
    "        outputs = model(images)\n",
    "        loss = criterion(outputs, labels)\n",
    "\n",
    "        loss.backward()\n",
    "\n",
    "        with torch.no_grad():\n",
    "            for param in model.parameters():\n",
    "                param -= learning_rate * param.grad\n",
    "\n",
    "        running_loss += loss.item()\n",
    "\n",
    "    print(f\"Epoch [{epoch+1}/{num_epochs}], Loss: {running_loss/len(train_loader):.4f}\")\n",
    "print(\"Training complete.\")"
   ]
  }
 ],
 "metadata": {
  "kaggle": {
   "accelerator": "none",
   "dataSources": [
    {
     "datasetId": 2243,
     "sourceId": 9243,
     "sourceType": "datasetVersion"
    }
   ],
   "dockerImageVersionId": 31012,
   "isGpuEnabled": false,
   "isInternetEnabled": true,
   "language": "python",
   "sourceType": "notebook"
  },
  "kernelspec": {
   "display_name": "Python 3",
   "language": "python",
   "name": "python3"
  },
  "language_info": {
   "codemirror_mode": {
    "name": "ipython",
    "version": 3
   },
   "file_extension": ".py",
   "mimetype": "text/x-python",
   "name": "python",
   "nbconvert_exporter": "python",
   "pygments_lexer": "ipython3",
   "version": "3.11.11"
  },
  "papermill": {
   "default_parameters": {},
   "duration": 3122.700588,
   "end_time": "2025-04-25T21:53:46.183233",
   "environment_variables": {},
   "exception": null,
   "input_path": "__notebook__.ipynb",
   "output_path": "__notebook__.ipynb",
   "parameters": {},
   "start_time": "2025-04-25T21:01:43.482645",
   "version": "2.6.0"
  }
 },
 "nbformat": 4,
 "nbformat_minor": 5
}
