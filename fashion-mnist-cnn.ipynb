{
 "cells": [
  {
   "cell_type": "code",
   "execution_count": 1,
   "id": "02f3f64f",
   "metadata": {
    "_cell_guid": "b1076dfc-b9ad-4769-8c92-a6c4dae69d19",
    "_uuid": "8f2839f25d086af736a60e9eeb907d3b93b6e0e5",
    "execution": {
     "iopub.execute_input": "2025-04-23T01:31:06.144687Z",
     "iopub.status.busy": "2025-04-23T01:31:06.144182Z",
     "iopub.status.idle": "2025-04-23T01:31:08.565173Z",
     "shell.execute_reply": "2025-04-23T01:31:08.564187Z"
    },
    "papermill": {
     "duration": 2.427441,
     "end_time": "2025-04-23T01:31:08.567027",
     "exception": false,
     "start_time": "2025-04-23T01:31:06.139586",
     "status": "completed"
    },
    "tags": []
   },
   "outputs": [],
   "source": [
    "import numpy as np\n",
    "import matplotlib.pyplot as plt\n",
    "import pandas as pd\n",
    "import cv2 "
   ]
  },
  {
   "cell_type": "code",
   "execution_count": 2,
   "id": "d9a73248",
   "metadata": {
    "execution": {
     "iopub.execute_input": "2025-04-23T01:31:08.574310Z",
     "iopub.status.busy": "2025-04-23T01:31:08.573887Z",
     "iopub.status.idle": "2025-04-23T01:31:15.144553Z",
     "shell.execute_reply": "2025-04-23T01:31:15.143362Z"
    },
    "papermill": {
     "duration": 6.576449,
     "end_time": "2025-04-23T01:31:15.146749",
     "exception": false,
     "start_time": "2025-04-23T01:31:08.570300",
     "status": "completed"
    },
    "tags": []
   },
   "outputs": [
    {
     "data": {
      "text/html": [
       "<div>\n",
       "<style scoped>\n",
       "    .dataframe tbody tr th:only-of-type {\n",
       "        vertical-align: middle;\n",
       "    }\n",
       "\n",
       "    .dataframe tbody tr th {\n",
       "        vertical-align: top;\n",
       "    }\n",
       "\n",
       "    .dataframe thead th {\n",
       "        text-align: right;\n",
       "    }\n",
       "</style>\n",
       "<table border=\"1\" class=\"dataframe\">\n",
       "  <thead>\n",
       "    <tr style=\"text-align: right;\">\n",
       "      <th></th>\n",
       "      <th>label</th>\n",
       "      <th>pixel1</th>\n",
       "      <th>pixel2</th>\n",
       "      <th>pixel3</th>\n",
       "      <th>pixel4</th>\n",
       "      <th>pixel5</th>\n",
       "      <th>pixel6</th>\n",
       "      <th>pixel7</th>\n",
       "      <th>pixel8</th>\n",
       "      <th>pixel9</th>\n",
       "      <th>...</th>\n",
       "      <th>pixel775</th>\n",
       "      <th>pixel776</th>\n",
       "      <th>pixel777</th>\n",
       "      <th>pixel778</th>\n",
       "      <th>pixel779</th>\n",
       "      <th>pixel780</th>\n",
       "      <th>pixel781</th>\n",
       "      <th>pixel782</th>\n",
       "      <th>pixel783</th>\n",
       "      <th>pixel784</th>\n",
       "    </tr>\n",
       "  </thead>\n",
       "  <tbody>\n",
       "    <tr>\n",
       "      <th>0</th>\n",
       "      <td>2</td>\n",
       "      <td>0</td>\n",
       "      <td>0</td>\n",
       "      <td>0</td>\n",
       "      <td>0</td>\n",
       "      <td>0</td>\n",
       "      <td>0</td>\n",
       "      <td>0</td>\n",
       "      <td>0</td>\n",
       "      <td>0</td>\n",
       "      <td>...</td>\n",
       "      <td>0</td>\n",
       "      <td>0</td>\n",
       "      <td>0</td>\n",
       "      <td>0</td>\n",
       "      <td>0</td>\n",
       "      <td>0</td>\n",
       "      <td>0</td>\n",
       "      <td>0</td>\n",
       "      <td>0</td>\n",
       "      <td>0</td>\n",
       "    </tr>\n",
       "    <tr>\n",
       "      <th>1</th>\n",
       "      <td>9</td>\n",
       "      <td>0</td>\n",
       "      <td>0</td>\n",
       "      <td>0</td>\n",
       "      <td>0</td>\n",
       "      <td>0</td>\n",
       "      <td>0</td>\n",
       "      <td>0</td>\n",
       "      <td>0</td>\n",
       "      <td>0</td>\n",
       "      <td>...</td>\n",
       "      <td>0</td>\n",
       "      <td>0</td>\n",
       "      <td>0</td>\n",
       "      <td>0</td>\n",
       "      <td>0</td>\n",
       "      <td>0</td>\n",
       "      <td>0</td>\n",
       "      <td>0</td>\n",
       "      <td>0</td>\n",
       "      <td>0</td>\n",
       "    </tr>\n",
       "    <tr>\n",
       "      <th>2</th>\n",
       "      <td>6</td>\n",
       "      <td>0</td>\n",
       "      <td>0</td>\n",
       "      <td>0</td>\n",
       "      <td>0</td>\n",
       "      <td>0</td>\n",
       "      <td>0</td>\n",
       "      <td>0</td>\n",
       "      <td>5</td>\n",
       "      <td>0</td>\n",
       "      <td>...</td>\n",
       "      <td>0</td>\n",
       "      <td>0</td>\n",
       "      <td>0</td>\n",
       "      <td>30</td>\n",
       "      <td>43</td>\n",
       "      <td>0</td>\n",
       "      <td>0</td>\n",
       "      <td>0</td>\n",
       "      <td>0</td>\n",
       "      <td>0</td>\n",
       "    </tr>\n",
       "    <tr>\n",
       "      <th>3</th>\n",
       "      <td>0</td>\n",
       "      <td>0</td>\n",
       "      <td>0</td>\n",
       "      <td>0</td>\n",
       "      <td>1</td>\n",
       "      <td>2</td>\n",
       "      <td>0</td>\n",
       "      <td>0</td>\n",
       "      <td>0</td>\n",
       "      <td>0</td>\n",
       "      <td>...</td>\n",
       "      <td>3</td>\n",
       "      <td>0</td>\n",
       "      <td>0</td>\n",
       "      <td>0</td>\n",
       "      <td>0</td>\n",
       "      <td>1</td>\n",
       "      <td>0</td>\n",
       "      <td>0</td>\n",
       "      <td>0</td>\n",
       "      <td>0</td>\n",
       "    </tr>\n",
       "    <tr>\n",
       "      <th>4</th>\n",
       "      <td>3</td>\n",
       "      <td>0</td>\n",
       "      <td>0</td>\n",
       "      <td>0</td>\n",
       "      <td>0</td>\n",
       "      <td>0</td>\n",
       "      <td>0</td>\n",
       "      <td>0</td>\n",
       "      <td>0</td>\n",
       "      <td>0</td>\n",
       "      <td>...</td>\n",
       "      <td>0</td>\n",
       "      <td>0</td>\n",
       "      <td>0</td>\n",
       "      <td>0</td>\n",
       "      <td>0</td>\n",
       "      <td>0</td>\n",
       "      <td>0</td>\n",
       "      <td>0</td>\n",
       "      <td>0</td>\n",
       "      <td>0</td>\n",
       "    </tr>\n",
       "    <tr>\n",
       "      <th>...</th>\n",
       "      <td>...</td>\n",
       "      <td>...</td>\n",
       "      <td>...</td>\n",
       "      <td>...</td>\n",
       "      <td>...</td>\n",
       "      <td>...</td>\n",
       "      <td>...</td>\n",
       "      <td>...</td>\n",
       "      <td>...</td>\n",
       "      <td>...</td>\n",
       "      <td>...</td>\n",
       "      <td>...</td>\n",
       "      <td>...</td>\n",
       "      <td>...</td>\n",
       "      <td>...</td>\n",
       "      <td>...</td>\n",
       "      <td>...</td>\n",
       "      <td>...</td>\n",
       "      <td>...</td>\n",
       "      <td>...</td>\n",
       "      <td>...</td>\n",
       "    </tr>\n",
       "    <tr>\n",
       "      <th>59995</th>\n",
       "      <td>9</td>\n",
       "      <td>0</td>\n",
       "      <td>0</td>\n",
       "      <td>0</td>\n",
       "      <td>0</td>\n",
       "      <td>0</td>\n",
       "      <td>0</td>\n",
       "      <td>0</td>\n",
       "      <td>0</td>\n",
       "      <td>0</td>\n",
       "      <td>...</td>\n",
       "      <td>0</td>\n",
       "      <td>0</td>\n",
       "      <td>0</td>\n",
       "      <td>0</td>\n",
       "      <td>0</td>\n",
       "      <td>0</td>\n",
       "      <td>0</td>\n",
       "      <td>0</td>\n",
       "      <td>0</td>\n",
       "      <td>0</td>\n",
       "    </tr>\n",
       "    <tr>\n",
       "      <th>59996</th>\n",
       "      <td>1</td>\n",
       "      <td>0</td>\n",
       "      <td>0</td>\n",
       "      <td>0</td>\n",
       "      <td>0</td>\n",
       "      <td>0</td>\n",
       "      <td>0</td>\n",
       "      <td>0</td>\n",
       "      <td>0</td>\n",
       "      <td>0</td>\n",
       "      <td>...</td>\n",
       "      <td>73</td>\n",
       "      <td>0</td>\n",
       "      <td>0</td>\n",
       "      <td>0</td>\n",
       "      <td>0</td>\n",
       "      <td>0</td>\n",
       "      <td>0</td>\n",
       "      <td>0</td>\n",
       "      <td>0</td>\n",
       "      <td>0</td>\n",
       "    </tr>\n",
       "    <tr>\n",
       "      <th>59997</th>\n",
       "      <td>8</td>\n",
       "      <td>0</td>\n",
       "      <td>0</td>\n",
       "      <td>0</td>\n",
       "      <td>0</td>\n",
       "      <td>0</td>\n",
       "      <td>0</td>\n",
       "      <td>0</td>\n",
       "      <td>0</td>\n",
       "      <td>0</td>\n",
       "      <td>...</td>\n",
       "      <td>160</td>\n",
       "      <td>162</td>\n",
       "      <td>163</td>\n",
       "      <td>135</td>\n",
       "      <td>94</td>\n",
       "      <td>0</td>\n",
       "      <td>0</td>\n",
       "      <td>0</td>\n",
       "      <td>0</td>\n",
       "      <td>0</td>\n",
       "    </tr>\n",
       "    <tr>\n",
       "      <th>59998</th>\n",
       "      <td>8</td>\n",
       "      <td>0</td>\n",
       "      <td>0</td>\n",
       "      <td>0</td>\n",
       "      <td>0</td>\n",
       "      <td>0</td>\n",
       "      <td>0</td>\n",
       "      <td>0</td>\n",
       "      <td>0</td>\n",
       "      <td>0</td>\n",
       "      <td>...</td>\n",
       "      <td>0</td>\n",
       "      <td>0</td>\n",
       "      <td>0</td>\n",
       "      <td>0</td>\n",
       "      <td>0</td>\n",
       "      <td>0</td>\n",
       "      <td>0</td>\n",
       "      <td>0</td>\n",
       "      <td>0</td>\n",
       "      <td>0</td>\n",
       "    </tr>\n",
       "    <tr>\n",
       "      <th>59999</th>\n",
       "      <td>7</td>\n",
       "      <td>0</td>\n",
       "      <td>0</td>\n",
       "      <td>0</td>\n",
       "      <td>0</td>\n",
       "      <td>0</td>\n",
       "      <td>0</td>\n",
       "      <td>0</td>\n",
       "      <td>0</td>\n",
       "      <td>0</td>\n",
       "      <td>...</td>\n",
       "      <td>0</td>\n",
       "      <td>0</td>\n",
       "      <td>0</td>\n",
       "      <td>0</td>\n",
       "      <td>0</td>\n",
       "      <td>0</td>\n",
       "      <td>0</td>\n",
       "      <td>0</td>\n",
       "      <td>0</td>\n",
       "      <td>0</td>\n",
       "    </tr>\n",
       "  </tbody>\n",
       "</table>\n",
       "<p>60000 rows × 785 columns</p>\n",
       "</div>"
      ],
      "text/plain": [
       "       label  pixel1  pixel2  pixel3  pixel4  pixel5  pixel6  pixel7  pixel8  \\\n",
       "0          2       0       0       0       0       0       0       0       0   \n",
       "1          9       0       0       0       0       0       0       0       0   \n",
       "2          6       0       0       0       0       0       0       0       5   \n",
       "3          0       0       0       0       1       2       0       0       0   \n",
       "4          3       0       0       0       0       0       0       0       0   \n",
       "...      ...     ...     ...     ...     ...     ...     ...     ...     ...   \n",
       "59995      9       0       0       0       0       0       0       0       0   \n",
       "59996      1       0       0       0       0       0       0       0       0   \n",
       "59997      8       0       0       0       0       0       0       0       0   \n",
       "59998      8       0       0       0       0       0       0       0       0   \n",
       "59999      7       0       0       0       0       0       0       0       0   \n",
       "\n",
       "       pixel9  ...  pixel775  pixel776  pixel777  pixel778  pixel779  \\\n",
       "0           0  ...         0         0         0         0         0   \n",
       "1           0  ...         0         0         0         0         0   \n",
       "2           0  ...         0         0         0        30        43   \n",
       "3           0  ...         3         0         0         0         0   \n",
       "4           0  ...         0         0         0         0         0   \n",
       "...       ...  ...       ...       ...       ...       ...       ...   \n",
       "59995       0  ...         0         0         0         0         0   \n",
       "59996       0  ...        73         0         0         0         0   \n",
       "59997       0  ...       160       162       163       135        94   \n",
       "59998       0  ...         0         0         0         0         0   \n",
       "59999       0  ...         0         0         0         0         0   \n",
       "\n",
       "       pixel780  pixel781  pixel782  pixel783  pixel784  \n",
       "0             0         0         0         0         0  \n",
       "1             0         0         0         0         0  \n",
       "2             0         0         0         0         0  \n",
       "3             1         0         0         0         0  \n",
       "4             0         0         0         0         0  \n",
       "...         ...       ...       ...       ...       ...  \n",
       "59995         0         0         0         0         0  \n",
       "59996         0         0         0         0         0  \n",
       "59997         0         0         0         0         0  \n",
       "59998         0         0         0         0         0  \n",
       "59999         0         0         0         0         0  \n",
       "\n",
       "[60000 rows x 785 columns]"
      ]
     },
     "execution_count": 2,
     "metadata": {},
     "output_type": "execute_result"
    }
   ],
   "source": [
    "data = pd.read_csv('/kaggle/input/fashionmnist/fashion-mnist_train.csv')\n",
    "data"
   ]
  },
  {
   "cell_type": "code",
   "execution_count": 3,
   "id": "49d4d9bd",
   "metadata": {
    "execution": {
     "iopub.execute_input": "2025-04-23T01:31:15.155420Z",
     "iopub.status.busy": "2025-04-23T01:31:15.155051Z",
     "iopub.status.idle": "2025-04-23T01:31:16.141841Z",
     "shell.execute_reply": "2025-04-23T01:31:16.140467Z"
    },
    "papermill": {
     "duration": 0.99295,
     "end_time": "2025-04-23T01:31:16.143602",
     "exception": false,
     "start_time": "2025-04-23T01:31:15.150652",
     "status": "completed"
    },
    "tags": []
   },
   "outputs": [
    {
     "name": "stdout",
     "output_type": "stream",
     "text": [
      "m = 60000, n = 785\n"
     ]
    }
   ],
   "source": [
    "data = np.array(data)\n",
    "m, n = np.shape(data)\n",
    "np.random.shuffle(data)\n",
    "print(f\"m = {m}, n = {n}\")"
   ]
  },
  {
   "cell_type": "code",
   "execution_count": 4,
   "id": "dc91e16a",
   "metadata": {
    "execution": {
     "iopub.execute_input": "2025-04-23T01:31:16.152090Z",
     "iopub.status.busy": "2025-04-23T01:31:16.151754Z",
     "iopub.status.idle": "2025-04-23T01:31:16.158030Z",
     "shell.execute_reply": "2025-04-23T01:31:16.157067Z"
    },
    "papermill": {
     "duration": 0.012852,
     "end_time": "2025-04-23T01:31:16.159845",
     "exception": false,
     "start_time": "2025-04-23T01:31:16.146993",
     "status": "completed"
    },
    "tags": []
   },
   "outputs": [
    {
     "data": {
      "text/plain": [
       "12000.0"
      ]
     },
     "execution_count": 4,
     "metadata": {},
     "output_type": "execute_result"
    }
   ],
   "source": [
    "index = m * 0.20\n",
    "index"
   ]
  },
  {
   "cell_type": "code",
   "execution_count": 5,
   "id": "ec4c1479",
   "metadata": {
    "execution": {
     "iopub.execute_input": "2025-04-23T01:31:16.167968Z",
     "iopub.status.busy": "2025-04-23T01:31:16.167636Z",
     "iopub.status.idle": "2025-04-23T01:31:16.369331Z",
     "shell.execute_reply": "2025-04-23T01:31:16.368483Z"
    },
    "papermill": {
     "duration": 0.207809,
     "end_time": "2025-04-23T01:31:16.371037",
     "exception": false,
     "start_time": "2025-04-23T01:31:16.163228",
     "status": "completed"
    },
    "tags": []
   },
   "outputs": [],
   "source": [
    "data_train = data[12000:m].T\n",
    "Y_train = data_train[0]\n",
    "X_train = data_train[1:n]\n",
    "X_train = X_train / 255.\n",
    "_, m_train = X_train.shape"
   ]
  },
  {
   "cell_type": "code",
   "execution_count": 6,
   "id": "7c2c3aaf",
   "metadata": {
    "execution": {
     "iopub.execute_input": "2025-04-23T01:31:16.380462Z",
     "iopub.status.busy": "2025-04-23T01:31:16.380048Z",
     "iopub.status.idle": "2025-04-23T01:31:16.417633Z",
     "shell.execute_reply": "2025-04-23T01:31:16.416605Z"
    },
    "papermill": {
     "duration": 0.044977,
     "end_time": "2025-04-23T01:31:16.419397",
     "exception": false,
     "start_time": "2025-04-23T01:31:16.374420",
     "status": "completed"
    },
    "tags": []
   },
   "outputs": [],
   "source": [
    "data_test = data[0:12000].T\n",
    "Y_test = data_test[0]\n",
    "X_test = data_test[1:n]\n",
    "X_test = X_test / 255."
   ]
  },
  {
   "cell_type": "code",
   "execution_count": 7,
   "id": "93f61ec5",
   "metadata": {
    "execution": {
     "iopub.execute_input": "2025-04-23T01:31:16.427727Z",
     "iopub.status.busy": "2025-04-23T01:31:16.427348Z",
     "iopub.status.idle": "2025-04-23T01:31:16.432736Z",
     "shell.execute_reply": "2025-04-23T01:31:16.431606Z"
    },
    "papermill": {
     "duration": 0.011404,
     "end_time": "2025-04-23T01:31:16.434339",
     "exception": false,
     "start_time": "2025-04-23T01:31:16.422935",
     "status": "completed"
    },
    "tags": []
   },
   "outputs": [],
   "source": [
    "def one_hot_encode(labels, num_classes=10):\n",
    "    num_labels = len(labels)\n",
    "    one_hot = np.zeros((num_labels, num_classes))\n",
    "    one_hot[np.arange(num_labels), labels.astype(int)] = 1\n",
    "    return one_hot"
   ]
  },
  {
   "cell_type": "code",
   "execution_count": 8,
   "id": "b4d2b3a3",
   "metadata": {
    "execution": {
     "iopub.execute_input": "2025-04-23T01:31:16.442203Z",
     "iopub.status.busy": "2025-04-23T01:31:16.441869Z",
     "iopub.status.idle": "2025-04-23T01:31:16.679931Z",
     "shell.execute_reply": "2025-04-23T01:31:16.678921Z"
    },
    "papermill": {
     "duration": 0.243821,
     "end_time": "2025-04-23T01:31:16.681585",
     "exception": false,
     "start_time": "2025-04-23T01:31:16.437764",
     "status": "completed"
    },
    "tags": []
   },
   "outputs": [
    {
     "name": "stdout",
     "output_type": "stream",
     "text": [
      "X_train shape: (48000, 28, 28, 1)\n",
      "Y_train shape: (48000, 10)\n",
      "X_test shape: (12000, 28, 28, 1)\n",
      "Y_test shape: (12000, 10)\n",
      "\n",
      "Original label: 7\n",
      "One-hot encoded [0. 0. 0. 0. 0. 0. 0. 1. 0. 0.]\n",
      "Sample image shape: (28, 28, 1)\n"
     ]
    },
    {
     "data": {
      "image/png": "[encoded data removed]",
      "text/plain": [
       "<Figure size 640x480 with 1 Axes>"
      ]
     },
     "metadata": {},
     "output_type": "display_data"
    }
   ],
   "source": [
    "X_train = X_train.T.reshape(-1, 28, 28, 1)\n",
    "X_test = X_test.T.reshape(-1, 28, 28, 1)\n",
    "Y_train = one_hot_encode(Y_train)\n",
    "Y_test = one_hot_encode(Y_test)\n",
    "\n",
    "print(\"X_train shape:\", X_train.shape) #(48000, 28, 28, 1)\n",
    "print(\"Y_train shape:\", Y_train.shape) #(48000, 10)\n",
    "print(\"X_test shape:\", X_test.shape) #(12000, 28, 28, 1)\n",
    "print(\"Y_test shape:\", Y_test.shape) #(12000, 1)\n",
    "\n",
    "print(\"\\nOriginal label:\", np.argmax(Y_train[0]))\n",
    "print(\"One-hot encoded\", Y_train[0])\n",
    "\n",
    "print(\"Sample image shape:\", X_train[0].shape)\n",
    "plt.imshow(X_train[0].squeeze(), cmap='gray')\n",
    "plt.show()"
   ]
  },
  {
   "cell_type": "code",
   "execution_count": 9,
   "id": "3b1f5ed5",
   "metadata": {
    "execution": {
     "iopub.execute_input": "2025-04-23T01:31:16.690185Z",
     "iopub.status.busy": "2025-04-23T01:31:16.689866Z",
     "iopub.status.idle": "2025-04-23T01:31:16.698626Z",
     "shell.execute_reply": "2025-04-23T01:31:16.697315Z"
    },
    "papermill": {
     "duration": 0.015309,
     "end_time": "2025-04-23T01:31:16.700626",
     "exception": false,
     "start_time": "2025-04-23T01:31:16.685317",
     "status": "completed"
    },
    "tags": []
   },
   "outputs": [],
   "source": [
    "def conv(image, kernel):\n",
    "    kernel_h, kernel_w = kernel.shape\n",
    "    img_h, img_w = image.shape\n",
    "    output_h = img_h - kernel_h + 1\n",
    "    output_w = img_w - kernel_w + 1\n",
    "\n",
    "    output = np.zeros((output_h, output_w))\n",
    "    for i in range(output_h):\n",
    "        for j in range(output_w):\n",
    "            output[i, j] = np.sum(image[i:i+kernel_h, j:j+kernel_w] * kernel)\n",
    "    return output\n",
    "\n",
    "def relu(Z):\n",
    "    return np.maximum(0, Z)\n",
    "\n",
    "def max_pooling(image, pool_size=(2,2)):\n",
    "    pool_h, pool_w = pool_size\n",
    "    img_h, img_w = image.shape\n",
    "    output_h = img_h // pool_h\n",
    "    output_w = img_w // pool_w\n",
    "\n",
    "    output = np.zeros((output_h, output_w))\n",
    "\n",
    "    for i in range(output_h):\n",
    "        for j in range(output_w):\n",
    "            output[i, j] = np.max(image[i * pool_h: (i+1)*pool_h, j * pool_w: (j+1)*pool_w])\n",
    "    return output\n",
    "\n",
    "def softmax(x):\n",
    "    exp_x = np.exp(x - np.max(x))\n",
    "    return exp_x / np.sum(exp_x, axis=1, keepdims=True)"
   ]
  },
  {
   "cell_type": "code",
   "execution_count": 10,
   "id": "99775841",
   "metadata": {
    "execution": {
     "iopub.execute_input": "2025-04-23T01:31:16.709128Z",
     "iopub.status.busy": "2025-04-23T01:31:16.708798Z",
     "iopub.status.idle": "2025-04-23T01:31:16.714930Z",
     "shell.execute_reply": "2025-04-23T01:31:16.714001Z"
    },
    "papermill": {
     "duration": 0.012726,
     "end_time": "2025-04-23T01:31:16.716948",
     "exception": false,
     "start_time": "2025-04-23T01:31:16.704222",
     "status": "completed"
    },
    "tags": []
   },
   "outputs": [],
   "source": [
    "class CNN:\n",
    "    def __init__(self):\n",
    "        self.conv_kernel = np.random.uniform(-0.1, 0.1, (3,3))\n",
    "        self.fc_weights = np.randnom.uniform(-0.1, 0.1, (13 * 13 * 1, 10))\n",
    "        self.fc_biases = np.zeros((1, 10))\n",
    "\n",
    "    def forward(self, input_img):\n",
    "        conv_output = convolve(input_img.squeeze(), self.conv_kernel)\n",
    "\n",
    "        relu_output = relu(conv_output)\n",
    "\n",
    "        pooled_output = max_pooling(relu_output)\n",
    "\n",
    "        flattened = pooled_output.flatten()\n",
    "\n",
    "        fc_output = fully_connected_layer(flattened, self.fc_weights, self.fc_biases)\n",
    "\n",
    "        output_probs = softmax(fc_output.reshape(1, -1))\n",
    "\n",
    "        return output_probs"
   ]
  },
  {
   "cell_type": "code",
   "execution_count": 11,
   "id": "1aa7de88",
   "metadata": {
    "execution": {
     "iopub.execute_input": "2025-04-23T01:31:16.725488Z",
     "iopub.status.busy": "2025-04-23T01:31:16.725154Z",
     "iopub.status.idle": "2025-04-23T01:31:16.730333Z",
     "shell.execute_reply": "2025-04-23T01:31:16.729082Z"
    },
    "papermill": {
     "duration": 0.011409,
     "end_time": "2025-04-23T01:31:16.732024",
     "exception": false,
     "start_time": "2025-04-23T01:31:16.720615",
     "status": "completed"
    },
    "tags": []
   },
   "outputs": [],
   "source": [
    "def cross_entropy_loss(predictions, label):\n",
    "    m = label.shape[1]\n",
    "    loss = -np.sum(label*np.log(predictions + 1e-8)) / m\n",
    "    return loss"
   ]
  },
  {
   "cell_type": "code",
   "execution_count": 12,
   "id": "96faf3bc",
   "metadata": {
    "execution": {
     "iopub.execute_input": "2025-04-23T01:31:16.740915Z",
     "iopub.status.busy": "2025-04-23T01:31:16.740605Z",
     "iopub.status.idle": "2025-04-23T01:31:16.745813Z",
     "shell.execute_reply": "2025-04-23T01:31:16.744890Z"
    },
    "papermill": {
     "duration": 0.011675,
     "end_time": "2025-04-23T01:31:16.747345",
     "exception": false,
     "start_time": "2025-04-23T01:31:16.735670",
     "status": "completed"
    },
    "tags": []
   },
   "outputs": [],
   "source": [
    "def train_CNN(CNN, X_train, Y_train, epochs=10, learning_rate=0.01):\n",
    "    for epoch in range(epochs):\n",
    "        total_loss = 0\n",
    "        for i in range(len(X_train)):\n",
    "            input_img = X_train[i]\n",
    "            target = Y_train[i]\n",
    "            "
   ]
  }
 ],
 "metadata": {
  "kaggle": {
   "accelerator": "none",
   "dataSources": [
    {
     "datasetId": 2243,
     "sourceId": 9243,
     "sourceType": "datasetVersion"
    }
   ],
   "dockerImageVersionId": 31012,
   "isGpuEnabled": false,
   "isInternetEnabled": true,
   "language": "python",
   "sourceType": "notebook"
  },
  "kernelspec": {
   "display_name": "Python 3",
   "language": "python",
   "name": "python3"
  },
  "language_info": {
   "codemirror_mode": {
    "name": "ipython",
    "version": 3
   },
   "file_extension": ".py",
   "mimetype": "text/x-python",
   "name": "python",
   "nbconvert_exporter": "python",
   "pygments_lexer": "ipython3",
   "version": "3.11.11"
  },
  "papermill": {
   "default_parameters": {},
   "duration": 16.263281,
   "end_time": "2025-04-23T01:31:17.371776",
   "environment_variables": {},
   "exception": null,
   "input_path": "__notebook__.ipynb",
   "output_path": "__notebook__.ipynb",
   "parameters": {},
   "start_time": "2025-04-23T01:31:01.108495",
   "version": "2.6.0"
  }
 },
 "nbformat": 4,
 "nbformat_minor": 5
}
